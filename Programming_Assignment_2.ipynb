{
 "cells": [
  {
   "cell_type": "markdown",
   "id": "7c32de09",
   "metadata": {},
   "source": [
    "# Programming Assignment_2"
   ]
  },
  {
   "cell_type": "markdown",
   "id": "27f26018",
   "metadata": {},
   "source": [
    "#### Write a Python program to convert kilometers to miles?"
   ]
  },
  {
   "cell_type": "code",
   "execution_count": 10,
   "id": "9f467f6e",
   "metadata": {},
   "outputs": [
    {
     "name": "stdout",
     "output_type": "stream",
     "text": [
      "Enter the distance in kilometers: 34\n",
      "34.0 kilometers is equal to 21.126614 miles.\n"
     ]
    }
   ],
   "source": [
    " # Function to convert kilometers to miles\n",
    "def km_to_miles(kilometers):\n",
    "\n",
    "    # Conversion factor for kilometers to miles\n",
    "    conversion_factor = 0.621371\n",
    "\n",
    "    # Calculate miles\n",
    "    miles = kilometers * conversion_factor\n",
    "    return miles\n",
    "\n",
    "# User input for kilometers\n",
    "kilometers = float(input(\"Enter the distance in kilometers: \"))\n",
    "\n",
    "# Call the function to convert kilometers to miles\n",
    "miles = km_to_miles(kilometers)\n",
    "\n",
    "# Display the result\n",
    "print(f\"{kilometers} kilometers is equal to {miles} miles.\")"
   ]
  },
  {
   "cell_type": "markdown",
   "id": "e7b87f92",
   "metadata": {},
   "source": [
    "#### Write a Python program to convert Celsius to Fahrenheit?\n"
   ]
  },
  {
   "cell_type": "code",
   "execution_count": 4,
   "id": "2b927f16",
   "metadata": {},
   "outputs": [
    {
     "name": "stdout",
     "output_type": "stream",
     "text": [
      "Enter the temperature in Celsius: 34\n",
      "34.0 degrees Celsius is equal to 93.2 degrees Fahrenheit.\n"
     ]
    }
   ],
   "source": [
    "# Function to convert Celsius to Fahrenheit\n",
    "def celsius_to_fahrenheit(celsius):\n",
    "\n",
    "    # Calculate Fahrenheit\n",
    "    fahrenheit = (celsius * 9/5) + 32\n",
    "\n",
    "    return fahrenheit\n",
    "\n",
    "# User input for Celsius\n",
    "celsius = float(input(\"Enter the temperature in Celsius: \"))\n",
    "\n",
    "# Call the function to convert Celsius to Fahrenheit\n",
    "fahrenheit = celsius_to_fahrenheit(celsius)\n",
    "\n",
    "# Display the result\n",
    "print(f\"{celsius} degrees Celsius is equal to {fahrenheit} degrees Fahrenheit.\")"
   ]
  },
  {
   "cell_type": "markdown",
   "id": "948c8728",
   "metadata": {},
   "source": [
    "#### Write a Python program to display calendar?"
   ]
  },
  {
   "cell_type": "code",
   "execution_count": 5,
   "id": "f093c84c",
   "metadata": {},
   "outputs": [
    {
     "name": "stdout",
     "output_type": "stream",
     "text": [
      "Enter the year: 2012\n",
      "Enter the month (1-12): 5\n",
      "May 2012\n",
      "MON TUE WED THU FRI SAT SUN\n",
      "       1   2   3   4   5   6 \n",
      "  7   8   9  10  11  12  13 \n",
      " 14  15  16  17  18  19  20 \n",
      " 21  22  23  24  25  26  27 \n",
      " 28  29  30  31                \n"
     ]
    }
   ],
   "source": [
    "import calendar\n",
    "\n",
    "# Function to display the calendar\n",
    "def display_calendar(year, month):\n",
    "    # Using the calendar module's monthcalendar() function to get the calendar data\n",
    "    cal = calendar.monthcalendar(year, month)\n",
    "\n",
    "    # Printing the calendar header\n",
    "    print(calendar.month_name[month], year)\n",
    "    print(\"MON TUE WED THU FRI SAT SUN\")\n",
    "\n",
    "    # Iterating through each week of the month\n",
    "    for week in cal:\n",
    "        # Iterating through each day of the week\n",
    "        for day in week:\n",
    "            # Displaying the day or a blank space if it's outside the month\n",
    "            if day != 0:\n",
    "                print(f\"{day:3d}\", end=\" \")\n",
    "            else:\n",
    "                print(\"    \", end=\" \")\n",
    "        print()\n",
    "\n",
    "# User input for the year and month\n",
    "year = int(input(\"Enter the year: \"))\n",
    "month = int(input(\"Enter the month (1-12): \"))\n",
    "\n",
    "# Call the function to display the calendar\n",
    "display_calendar(year, month)\n"
   ]
  },
  {
   "cell_type": "markdown",
   "id": "0c5d9de7",
   "metadata": {},
   "source": [
    "#### Write a Python program to solve quadratic equation? "
   ]
  },
  {
   "cell_type": "code",
   "execution_count": 8,
   "id": "3fa9e96f",
   "metadata": {},
   "outputs": [
    {
     "name": "stdout",
     "output_type": "stream",
     "text": [
      "Enter the coefficient a: 2\n",
      "Enter the coefficient b: -5\n",
      "Enter the coefficient c: 3\n",
      "The solutions are: (1.5, 1.0)\n"
     ]
    }
   ],
   "source": [
    " import math\n",
    "\n",
    "# Function to solve the quadratic equation\n",
    "def solve_quadratic(a, b, c):\n",
    "    # Calculate the discriminant\n",
    "    discriminant = b**2 - 4*a*c\n",
    "\n",
    "    # Check if the equation has real solutions\n",
    "    if discriminant >= 0:\n",
    "        # Calculate the solutions\n",
    "        x1 = (-b + math.sqrt(discriminant)) / (2*a)\n",
    "        x2 = (-b - math.sqrt(discriminant)) / (2*a)\n",
    "\n",
    "        return x1, x2\n",
    "    else:\n",
    "        # Return None for complex solutions\n",
    "        return None\n",
    "\n",
    "# User input for coefficients\n",
    "a = float(input(\"Enter the coefficient a: \"))\n",
    "b = float(input(\"Enter the coefficient b: \"))\n",
    "c = float(input(\"Enter the coefficient c: \"))\n",
    "\n",
    "# Call the function to solve the quadratic equation\n",
    "solutions = solve_quadratic(a, b, c)\n",
    "\n",
    "# Display the results\n",
    "if solutions:\n",
    "    print(\"The solutions are:\", solutions)\n",
    "else:\n",
    "    print(\"The quadratic equation has no real solutions.\")"
   ]
  },
  {
   "cell_type": "markdown",
   "id": "f7d483d6",
   "metadata": {},
   "source": [
    "#### Write a Python program to swap two variables without temp variable? "
   ]
  },
  {
   "cell_type": "code",
   "execution_count": 9,
   "id": "c713c87f",
   "metadata": {},
   "outputs": [
    {
     "name": "stdout",
     "output_type": "stream",
     "text": [
      "Enter the value of variable a: 54\n",
      "Enter the value of variable b: 23\n",
      "After swapping:\n",
      "Value of variable a: 23\n",
      "Value of variable b: 54\n"
     ]
    }
   ],
   "source": [
    " # Function to swap two variables without temp variable\n",
    "def swap_variables(a, b):\n",
    "    # Swapping the values\n",
    "    a = a + b\n",
    "    b = a - b\n",
    "    a = a - b\n",
    "\n",
    "    return a, b\n",
    "\n",
    "# User input for the variables\n",
    "a = int(input(\"Enter the value of variable a: \"))\n",
    "b = int(input(\"Enter the value of variable b: \"))\n",
    "\n",
    "# Call the function to swap the variables\n",
    "a, b = swap_variables(a, b)\n",
    "\n",
    "# Display the swapped values\n",
    "print(\"After swapping:\")\n",
    "print(\"Value of variable a:\", a)\n",
    "print(\"Value of variable b:\", b)"
   ]
  },
  {
   "cell_type": "code",
   "execution_count": null,
   "id": "defe8ecd",
   "metadata": {},
   "outputs": [],
   "source": []
  }
 ],
 "metadata": {
  "kernelspec": {
   "display_name": "Python 3 (ipykernel)",
   "language": "python",
   "name": "python3"
  },
  "language_info": {
   "codemirror_mode": {
    "name": "ipython",
    "version": 3
   },
   "file_extension": ".py",
   "mimetype": "text/x-python",
   "name": "python",
   "nbconvert_exporter": "python",
   "pygments_lexer": "ipython3",
   "version": "3.10.9"
  }
 },
 "nbformat": 4,
 "nbformat_minor": 5
}
