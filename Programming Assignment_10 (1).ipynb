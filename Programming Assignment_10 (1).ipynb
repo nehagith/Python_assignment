{
 "cells": [
  {
   "cell_type": "markdown",
   "id": "3dcb940f",
   "metadata": {},
   "source": [
    "## Python Basic Programming Assignment 10"
   ]
  },
  {
   "cell_type": "markdown",
   "id": "6720790a",
   "metadata": {},
   "source": [
    "### 1. Write a Python program to find sum of elements in list?"
   ]
  },
  {
   "cell_type": "code",
   "execution_count": 1,
   "id": "184e1ac6",
   "metadata": {},
   "outputs": [
    {
     "name": "stdout",
     "output_type": "stream",
     "text": [
      "List of numbers: [1, 2, 3, 4, 5]\n",
      "Sum of elements: 15\n"
     ]
    }
   ],
   "source": [
    "# Function to find the sum of elements in a list\n",
    "def sum_of_elements(lst):\n",
    "    return sum(lst)\n",
    "\n",
    "# Example list\n",
    "numbers = [1, 2, 3, 4, 5]\n",
    "\n",
    "# Find the sum of elements\n",
    "total_sum = sum_of_elements(numbers)\n",
    "\n",
    "# Print the result\n",
    "print(\"List of numbers:\", numbers)\n",
    "print(\"Sum of elements:\", total_sum)\n"
   ]
  },
  {
   "cell_type": "markdown",
   "id": "fe1137c3",
   "metadata": {},
   "source": [
    "### 2. Write a Python program to  Multiply all numbers in the list?"
   ]
  },
  {
   "cell_type": "code",
   "execution_count": 2,
   "id": "1f3cdcaf",
   "metadata": {},
   "outputs": [
    {
     "name": "stdout",
     "output_type": "stream",
     "text": [
      "List of numbers: [1, 2, 3, 4, 5]\n",
      "Product of all elements: 120\n"
     ]
    }
   ],
   "source": [
    "# Function to multiply all numbers in a list\n",
    "def multiply_elements(lst):\n",
    "    product = 1\n",
    "    for number in lst:\n",
    "        product *= number\n",
    "    return product\n",
    "\n",
    "# Example list\n",
    "numbers = [1, 2, 3, 4, 5]\n",
    "\n",
    "# Multiply all numbers in the list\n",
    "result_product = multiply_elements(numbers)\n",
    "\n",
    "# Print the result\n",
    "print(\"List of numbers:\", numbers)\n",
    "print(\"Product of all elements:\", result_product)\n"
   ]
  },
  {
   "cell_type": "markdown",
   "id": "078681db",
   "metadata": {},
   "source": [
    "### 3. Write a Python program to find smallest number in a list?"
   ]
  },
  {
   "cell_type": "code",
   "execution_count": 3,
   "id": "127a118b",
   "metadata": {},
   "outputs": [
    {
     "name": "stdout",
     "output_type": "stream",
     "text": [
      "List of numbers: [3, 1, 4, 1, 5, 9, 2]\n",
      "Smallest number: 1\n"
     ]
    }
   ],
   "source": [
    "# Function to find the smallest number in a list\n",
    "def find_smallest_number(lst):\n",
    "    if not lst:  # Check if the list is empty\n",
    "        return None\n",
    "    smallest = lst[0]\n",
    "    for number in lst[1:]:\n",
    "        if number < smallest:\n",
    "            smallest = number\n",
    "    return smallest\n",
    "\n",
    "# Example list\n",
    "numbers = [3, 1, 4, 1, 5, 9, 2]\n",
    "\n",
    "# Find the smallest number in the list\n",
    "smallest_number = find_smallest_number(numbers)\n",
    "\n",
    "# Print the result\n",
    "print(\"List of numbers:\", numbers)\n",
    "print(\"Smallest number:\", smallest_number)\n"
   ]
  },
  {
   "cell_type": "markdown",
   "id": "12b04397",
   "metadata": {},
   "source": [
    "### 4. Write a Python program to find largest number in a list?"
   ]
  },
  {
   "cell_type": "code",
   "execution_count": 4,
   "id": "d8ae4a05",
   "metadata": {},
   "outputs": [
    {
     "name": "stdout",
     "output_type": "stream",
     "text": [
      "List of numbers: [3, 1, 4, 1, 5, 9, 2]\n",
      "Largest number: 9\n"
     ]
    }
   ],
   "source": [
    "# Function to find the largest number in a list\n",
    "def find_largest_number(lst):\n",
    "    if not lst:  # Check if the list is empty\n",
    "        return None\n",
    "    largest = lst[0]\n",
    "    for number in lst[1:]:\n",
    "        if number > largest:\n",
    "            largest = number\n",
    "    return largest\n",
    "\n",
    "# Example list\n",
    "numbers = [3, 1, 4, 1, 5, 9, 2]\n",
    "\n",
    "# Find the largest number in the list\n",
    "largest_number = find_largest_number(numbers)\n",
    "\n",
    "# Print the result\n",
    "print(\"List of numbers:\", numbers)\n",
    "print(\"Largest number:\", largest_number)\n"
   ]
  },
  {
   "cell_type": "markdown",
   "id": "86442b51",
   "metadata": {},
   "source": [
    "### 5. Write a Python program to find second largest number in a list?"
   ]
  },
  {
   "cell_type": "code",
   "execution_count": 5,
   "id": "62aa7015",
   "metadata": {},
   "outputs": [
    {
     "name": "stdout",
     "output_type": "stream",
     "text": [
      "List of numbers: [3, 1, 4, 1, 5, 9, 2]\n",
      "Second largest number: 5\n"
     ]
    }
   ],
   "source": [
    "def find_second_largest_number(lst):\n",
    "    if len(lst) < 2:  # Check if there are at least two numbers\n",
    "        return None\n",
    "    \n",
    "    # Initialize the largest and second largest numbers\n",
    "    largest = second_largest = float('-inf')\n",
    "    \n",
    "    for number in lst:\n",
    "        if number > largest:\n",
    "            second_largest = largest\n",
    "            largest = number\n",
    "        elif number > second_largest and number < largest:\n",
    "            second_largest = number\n",
    "    \n",
    "    # Check if second largest was updated\n",
    "    if second_largest == float('-inf'):\n",
    "        return None\n",
    "    \n",
    "    return second_largest\n",
    "\n",
    "# Example list\n",
    "numbers = [3, 1, 4, 1, 5, 9, 2]\n",
    "\n",
    "# Find the second largest number in the list\n",
    "second_largest_number = find_second_largest_number(numbers)\n",
    "\n",
    "# Print the result\n",
    "print(\"List of numbers:\", numbers)\n",
    "print(\"Second largest number:\", second_largest_number)\n"
   ]
  },
  {
   "cell_type": "markdown",
   "id": "10964d7d",
   "metadata": {},
   "source": [
    "### 6. Write a Python program to find N largest elements from a list?"
   ]
  },
  {
   "cell_type": "code",
   "execution_count": 6,
   "id": "9e6ac74f",
   "metadata": {},
   "outputs": [
    {
     "name": "stdout",
     "output_type": "stream",
     "text": [
      "List of numbers: [3, 1, 4, 1, 5, 9, 2]\n",
      "3 largest elements: [9, 5, 4]\n"
     ]
    }
   ],
   "source": [
    "import heapq\n",
    "\n",
    "def find_n_largest_elements(lst, N):\n",
    "    if N <= 0:  # Check if N is a positive integer\n",
    "        return []\n",
    "    if N > len(lst):  # Ensure N does not exceed the number of elements in the list\n",
    "        return sorted(lst, reverse=True)\n",
    "    \n",
    "    # Use heapq to find the N largest elements\n",
    "    return heapq.nlargest(N, lst)\n",
    "\n",
    "# Example list\n",
    "numbers = [3, 1, 4, 1, 5, 9, 2]\n",
    "\n",
    "# Number of largest elements to find\n",
    "N = 3\n",
    "\n",
    "# Find the N largest elements in the list\n",
    "largest_elements = find_n_largest_elements(numbers, N)\n",
    "\n",
    "# Print the result\n",
    "print(\"List of numbers:\", numbers)\n",
    "print(f\"{N} largest elements:\", largest_elements)\n"
   ]
  },
  {
   "cell_type": "markdown",
   "id": "2f1a1e98",
   "metadata": {},
   "source": [
    "### 7. Write a Python program to print even numbers in a list?"
   ]
  },
  {
   "cell_type": "code",
   "execution_count": 7,
   "id": "74fd4ef8",
   "metadata": {},
   "outputs": [
    {
     "name": "stdout",
     "output_type": "stream",
     "text": [
      "List of numbers: [1, 2, 3, 4, 5, 6, 7, 8, 9, 10]\n",
      "Even numbers: [2, 4, 6, 8, 10]\n"
     ]
    }
   ],
   "source": [
    "def print_even_numbers(lst):\n",
    "    even_numbers = [number for number in lst if number % 2 == 0]\n",
    "    return even_numbers\n",
    "\n",
    "# Example list\n",
    "numbers = [1, 2, 3, 4, 5, 6, 7, 8, 9, 10]\n",
    "\n",
    "# Find even numbers in the list\n",
    "even_numbers = print_even_numbers(numbers)\n",
    "\n",
    "# Print the result\n",
    "print(\"List of numbers:\", numbers)\n",
    "print(\"Even numbers:\", even_numbers)\n"
   ]
  },
  {
   "cell_type": "markdown",
   "id": "989bb324",
   "metadata": {},
   "source": [
    "### 8. Write a Python program to print odd numbers in a List?"
   ]
  },
  {
   "cell_type": "code",
   "execution_count": 8,
   "id": "294de95c",
   "metadata": {},
   "outputs": [
    {
     "name": "stdout",
     "output_type": "stream",
     "text": [
      "List of numbers: [1, 2, 3, 4, 5, 6, 7, 8, 9, 10]\n",
      "Odd numbers: [1, 3, 5, 7, 9]\n"
     ]
    }
   ],
   "source": [
    "def print_odd_numbers(lst):\n",
    "    odd_numbers = [number for number in lst if number % 2 != 0]\n",
    "    return odd_numbers\n",
    "\n",
    "# Example list\n",
    "numbers = [1, 2, 3, 4, 5, 6, 7, 8, 9, 10]\n",
    "\n",
    "# Find odd numbers in the list\n",
    "odd_numbers = print_odd_numbers(numbers)\n",
    "\n",
    "# Print the result\n",
    "print(\"List of numbers:\", numbers)\n",
    "print(\"Odd numbers:\", odd_numbers)\n"
   ]
  },
  {
   "cell_type": "markdown",
   "id": "185b7b13",
   "metadata": {},
   "source": [
    "### 9. Write a Python program to Remove empty List from List?"
   ]
  },
  {
   "cell_type": "code",
   "execution_count": 9,
   "id": "8268b728",
   "metadata": {},
   "outputs": [
    {
     "name": "stdout",
     "output_type": "stream",
     "text": [
      "Original list: [[1, 2, 3], [], [4, 5], [], [6, 7, 8]]\n",
      "List after removing empty lists: [[1, 2, 3], [4, 5], [6, 7, 8]]\n"
     ]
    }
   ],
   "source": [
    "def remove_empty_lists(lst):\n",
    "    return [sublist for sublist in lst if sublist]\n",
    "\n",
    "# Example list with some empty lists\n",
    "list_with_empty_lists = [[1, 2, 3], [], [4, 5], [], [6, 7, 8]]\n",
    "\n",
    "# Remove empty lists from the list\n",
    "cleaned_list = remove_empty_lists(list_with_empty_lists)\n",
    "\n",
    "# Print the result\n",
    "print(\"Original list:\", list_with_empty_lists)\n",
    "print(\"List after removing empty lists:\", cleaned_list)\n"
   ]
  },
  {
   "cell_type": "markdown",
   "id": "278cfacc",
   "metadata": {},
   "source": [
    "### 10. Write a Python program to Cloning or Copying a list?"
   ]
  },
  {
   "cell_type": "code",
   "execution_count": 10,
   "id": "5234f48e",
   "metadata": {},
   "outputs": [
    {
     "name": "stdout",
     "output_type": "stream",
     "text": [
      "Original list: [1, 2, 3, 4, 5]\n",
      "Cloned list using slicing: [1, 2, 3, 4, 5]\n"
     ]
    }
   ],
   "source": [
    "# Original list\n",
    "original_list = [1, 2, 3, 4, 5]\n",
    "\n",
    "# Clone the list using slicing\n",
    "cloned_list = original_list[:]\n",
    "\n",
    "# Print the results\n",
    "print(\"Original list:\", original_list)\n",
    "print(\"Cloned list using slicing:\", cloned_list)\n"
   ]
  },
  {
   "cell_type": "markdown",
   "id": "b359bedf",
   "metadata": {},
   "source": [
    "### 11. Write a Python program to Count occurrences of an element in a list?"
   ]
  },
  {
   "cell_type": "code",
   "execution_count": 11,
   "id": "f78e0c30",
   "metadata": {},
   "outputs": [
    {
     "name": "stdout",
     "output_type": "stream",
     "text": [
      "List of numbers: [1, 2, 3, 2, 4, 2, 5, 6, 2]\n",
      "Occurrences of 2: 4\n"
     ]
    }
   ],
   "source": [
    "def count_occurrences(lst, element):\n",
    "    return lst.count(element)\n",
    "\n",
    "# Example list\n",
    "numbers = [1, 2, 3, 2, 4, 2, 5, 6, 2]\n",
    "\n",
    "# Element to count\n",
    "element_to_count = 2\n",
    "\n",
    "# Count occurrences of the element\n",
    "occurrences = count_occurrences(numbers, element_to_count)\n",
    "\n",
    "# Print the result\n",
    "print(\"List of numbers:\", numbers)\n",
    "print(f\"Occurrences of {element_to_count}:\", occurrences)\n"
   ]
  },
  {
   "cell_type": "code",
   "execution_count": null,
   "id": "fd16d1a3",
   "metadata": {},
   "outputs": [],
   "source": []
  }
 ],
 "metadata": {
  "kernelspec": {
   "display_name": "Python 3 (ipykernel)",
   "language": "python",
   "name": "python3"
  },
  "language_info": {
   "codemirror_mode": {
    "name": "ipython",
    "version": 3
   },
   "file_extension": ".py",
   "mimetype": "text/x-python",
   "name": "python",
   "nbconvert_exporter": "python",
   "pygments_lexer": "ipython3",
   "version": "3.10.9"
  }
 },
 "nbformat": 4,
 "nbformat_minor": 5
}
