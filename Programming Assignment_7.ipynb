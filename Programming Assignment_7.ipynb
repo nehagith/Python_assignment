{
 "cells": [
  {
   "cell_type": "markdown",
   "id": "35297a20",
   "metadata": {},
   "source": [
    "## ---------------------Programming Basic Assignment 7-----------------------------------"
   ]
  },
  {
   "cell_type": "markdown",
   "id": "27349114",
   "metadata": {},
   "source": [
    "### 1. Write a Python Program to find sum of array?"
   ]
  },
  {
   "cell_type": "code",
   "execution_count": 1,
   "id": "468b8719",
   "metadata": {},
   "outputs": [
    {
     "name": "stdout",
     "output_type": "stream",
     "text": [
      "Sum of array is: 15\n"
     ]
    }
   ],
   "source": [
    "def sum_array(arr):\n",
    "    return sum(arr)\n",
    "\n",
    "arr = [1, 2, 3, 4, 5]\n",
    "print(\"Sum of array is:\", sum_array(arr))\n"
   ]
  },
  {
   "cell_type": "markdown",
   "id": "171a980d",
   "metadata": {},
   "source": [
    "### 2. Write a Python Program to find largest element in an array?\n"
   ]
  },
  {
   "cell_type": "code",
   "execution_count": 2,
   "id": "a2774014",
   "metadata": {},
   "outputs": [
    {
     "name": "stdout",
     "output_type": "stream",
     "text": [
      "Largest element given in array is: 67\n"
     ]
    }
   ],
   "source": [
    "def largest(arr):\n",
    "    max = arr[0]\n",
    "    for i in range(1, len(arr)):\n",
    "        if arr[i] > max:\n",
    "            max = arr[i]\n",
    "    return max\n",
    "\n",
    "arr = [23, 1, 32, 67, 2, 34, 12]\n",
    "print(\"Largest element given in array is:\", largest(arr))\n"
   ]
  },
  {
   "cell_type": "markdown",
   "id": "21613246",
   "metadata": {},
   "source": [
    "### 3. Write a Python Program for array rotation?"
   ]
  },
  {
   "cell_type": "code",
   "execution_count": 3,
   "id": "1a606844",
   "metadata": {},
   "outputs": [
    {
     "name": "stdout",
     "output_type": "stream",
     "text": [
      "Rotated array is: [3, 4, 5, 1, 2]\n"
     ]
    }
   ],
   "source": [
    "def rotate_array(arr, d):\n",
    "    n = len(arr)\n",
    "    temp = []\n",
    "    for i in range(d):\n",
    "        temp.append(arr[i])\n",
    "    for i in range(d, n):\n",
    "        arr[i-d] = arr[i]\n",
    "    for i in range(d):\n",
    "        arr[n-d+i] = temp[i]\n",
    "\n",
    "arr = [1, 2, 3, 4, 5]\n",
    "d = 2\n",
    "\n",
    "rotate_array(arr, d)\n",
    "print(\"Rotated array is:\", arr)\n"
   ]
  },
  {
   "cell_type": "markdown",
   "id": "3e52d939",
   "metadata": {},
   "source": [
    "### 4. Write a Python Program to Split the array and add the first part to the end?"
   ]
  },
  {
   "cell_type": "code",
   "execution_count": 4,
   "id": "7ef469a4",
   "metadata": {},
   "outputs": [
    {
     "name": "stdout",
     "output_type": "stream",
     "text": [
      "Array after splitting and adding the first part to the end is:\n",
      "5 6 52 36 12 10 "
     ]
    }
   ],
   "source": [
    "def split_array(arr, n, k):\n",
    "    for i in range(0, k):\n",
    "        x = arr[0]\n",
    "        for j in range(0, n-1):\n",
    "            arr[j] = arr[j+1]\n",
    "        arr[n-1] = x\n",
    "\n",
    "arr = [12, 10, 5, 6, 52, 36]\n",
    "n = len(arr)\n",
    "position = 2\n",
    "\n",
    "split_array(arr, n, position)\n",
    "\n",
    "print(\"Array after splitting and adding the first part to the end is:\")\n",
    "for i in range(0, n):\n",
    "    print(arr[i], end=' ')\n"
   ]
  },
  {
   "cell_type": "markdown",
   "id": "aa375779",
   "metadata": {},
   "source": [
    "### 5. Write a Python Program to check if given array is Monotonic?"
   ]
  },
  {
   "cell_type": "code",
   "execution_count": 5,
   "id": "4fdbb99e",
   "metadata": {},
   "outputs": [
    {
     "name": "stdout",
     "output_type": "stream",
     "text": [
      "Is the given array monotonic?  True\n"
     ]
    }
   ],
   "source": [
    "def is_monotonic(arr):\n",
    "    return (all(arr[i] <= arr[i + 1] for i in range(len(arr) - 1)) or\n",
    "            all(arr[i] >= arr[i + 1] for i in range(len(arr) - 1)))\n",
    "\n",
    "arr = [6, 5, 4, 4]\n",
    "print(\"Is the given array monotonic? \", is_monotonic(arr))\n"
   ]
  },
  {
   "cell_type": "code",
   "execution_count": null,
   "id": "0e3b0a38",
   "metadata": {},
   "outputs": [],
   "source": []
  }
 ],
 "metadata": {
  "kernelspec": {
   "display_name": "Python 3 (ipykernel)",
   "language": "python",
   "name": "python3"
  },
  "language_info": {
   "codemirror_mode": {
    "name": "ipython",
    "version": 3
   },
   "file_extension": ".py",
   "mimetype": "text/x-python",
   "name": "python",
   "nbconvert_exporter": "python",
   "pygments_lexer": "ipython3",
   "version": "3.10.9"
  }
 },
 "nbformat": 4,
 "nbformat_minor": 5
}
